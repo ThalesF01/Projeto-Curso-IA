{
  "nbformat": 4,
  "nbformat_minor": 0,
  "metadata": {
    "colab": {
      "provenance": [],
      "authorship_tag": "ABX9TyMTqzb+/SBTZti4jKVMc3St",
      "include_colab_link": true
    },
    "kernelspec": {
      "name": "python3",
      "display_name": "Python 3"
    },
    "language_info": {
      "name": "python"
    }
  },
  "cells": [
    {
      "cell_type": "markdown",
      "metadata": {
        "id": "view-in-github",
        "colab_type": "text"
      },
      "source": [
        "<a href=\"https://colab.research.google.com/github/ThalesF01/Projeto-Curso-IA/blob/main/ProjetoCursoIA/Projeto_curso_IA.ipynb\" target=\"_parent\"><img src=\"https://colab.research.google.com/assets/colab-badge.svg\" alt=\"Open In Colab\"/></a>"
      ]
    },
    {
      "cell_type": "code",
      "source": [
        "# Célula 1: Importar bibliotecas e warnings\n",
        "import pandas as pd\n",
        "import numpy as np\n",
        "from sklearn.preprocessing import LabelEncoder, StandardScaler\n",
        "from imblearn.over_sampling import SMOTE\n",
        "from xgboost import XGBClassifier\n",
        "from sklearn.model_selection import StratifiedKFold, GridSearchCV\n",
        "from sklearn.metrics import classification_report, f1_score, precision_recall_curve\n",
        "import lightgbm as lgb\n",
        "import matplotlib.pyplot as plt\n",
        "import json\n",
        "import warnings\n",
        "import os\n",
        "import joblib\n",
        "import shap\n",
        "\n",
        "warnings.filterwarnings(\"ignore\")"
      ],
      "metadata": {
        "id": "9OpQsWp3GP0j"
      },
      "execution_count": 1,
      "outputs": []
    },
    {
      "cell_type": "code",
      "source": [
        "# Célula 2: Carregar dataset\n",
        "dataset = pd.read_csv(\"train.csv\", keep_default_na=False)\n",
        "y = dataset['income']\n",
        "X = dataset.drop(columns=['income'])"
      ],
      "metadata": {
        "id": "47y4Jh08GRYa"
      },
      "execution_count": 2,
      "outputs": []
    },
    {
      "cell_type": "code",
      "source": [
        "# Célula 3: Colunas categóricas e tratamento de \"?\"\n",
        "colunas_categoricas = X.select_dtypes(include=['object', 'category']).columns\n",
        "X[colunas_categoricas] = X[colunas_categoricas].replace(\"?\", \"Unknown\")\n",
        "\n",
        "def mostrar_categorias(df, colunas):\n",
        "    for col in colunas:\n",
        "        print(f\"\\nColuna: {col}\")\n",
        "        print(f\"Número de categorias únicas: {df[col].nunique()}\")\n",
        "        print(df[col].value_counts(dropna=False))\n",
        "\n",
        "mostrar_categorias(X, colunas_categoricas)"
      ],
      "metadata": {
        "colab": {
          "base_uri": "https://localhost:8080/"
        },
        "id": "6aTZueoqGR8J",
        "outputId": "d1110957-5b16-496e-99d8-423024de1cff"
      },
      "execution_count": 3,
      "outputs": [
        {
          "output_type": "stream",
          "name": "stdout",
          "text": [
            "\n",
            "Coluna: workclass\n",
            "Número de categorias únicas: 9\n",
            "workclass\n",
            "Private             23719\n",
            "Self-emp-not-inc     2687\n",
            "Local-gov            2194\n",
            "Unknown              1969\n",
            "State-gov            1389\n",
            "Self-emp-inc         1197\n",
            "Federal-gov          1009\n",
            "Without-pay            17\n",
            "Never-worked            8\n",
            "Name: count, dtype: int64\n",
            "\n",
            "Coluna: education\n",
            "Número de categorias únicas: 16\n",
            "education\n",
            "HS-grad         11018\n",
            "Some-college     7662\n",
            "Bachelors        5622\n",
            "Masters          1875\n",
            "Assoc-voc        1441\n",
            "11th             1271\n",
            "Assoc-acdm       1104\n",
            "10th              962\n",
            "7th-8th           663\n",
            "Prof-school       580\n",
            "9th               509\n",
            "12th              461\n",
            "Doctorate         417\n",
            "5th-6th           365\n",
            "1st-4th           179\n",
            "Preschool          60\n",
            "Name: count, dtype: int64\n",
            "\n",
            "Coluna: marital-status\n",
            "Número de categorias únicas: 7\n",
            "marital-status\n",
            "Married-civ-spouse       15802\n",
            "Never-married            11156\n",
            "Divorced                  4625\n",
            "Widowed                   1071\n",
            "Separated                 1065\n",
            "Married-spouse-absent      445\n",
            "Married-AF-spouse           25\n",
            "Name: count, dtype: int64\n",
            "\n",
            "Coluna: occupation\n",
            "Número de categorias únicas: 15\n",
            "occupation\n",
            "Prof-specialty       4333\n",
            "Craft-repair         4282\n",
            "Exec-managerial      4256\n",
            "Adm-clerical         3918\n",
            "Sales                3880\n",
            "Other-service        3459\n",
            "Machine-op-inspct    2137\n",
            "Unknown              1977\n",
            "Transport-moving     1640\n",
            "Handlers-cleaners    1418\n",
            "Farming-fishing      1030\n",
            "Tech-support          954\n",
            "Protective-serv       714\n",
            "Priv-house-serv       180\n",
            "Armed-Forces           11\n",
            "Name: count, dtype: int64\n",
            "\n",
            "Coluna: relationship\n",
            "Número de categorias únicas: 6\n",
            "relationship\n",
            "Husband           13931\n",
            "Not-in-family      8752\n",
            "Own-child          5258\n",
            "Unmarried          3563\n",
            "Wife               1629\n",
            "Other-relative     1056\n",
            "Name: count, dtype: int64\n",
            "\n",
            "Coluna: race\n",
            "Número de categorias únicas: 5\n",
            "race\n",
            "White                 29295\n",
            "Black                  3206\n",
            "Asian-Pac-Islander     1087\n",
            "Amer-Indian-Eskimo      329\n",
            "Other                   272\n",
            "Name: count, dtype: int64\n",
            "\n",
            "Coluna: gender\n",
            "Número de categorias únicas: 2\n",
            "gender\n",
            "Male      22848\n",
            "Female    11341\n",
            "Name: count, dtype: int64\n",
            "\n",
            "Coluna: native-country\n",
            "Número de categorias únicas: 42\n",
            "native-country\n",
            "United-States                 30682\n",
            "Mexico                          670\n",
            "Unknown                         585\n",
            "Philippines                     221\n",
            "Germany                         138\n",
            "Canada                          131\n",
            "Puerto-Rico                     128\n",
            "El-Salvador                     110\n",
            "India                           105\n",
            "China                            96\n",
            "Cuba                             86\n",
            "South                            78\n",
            "Italy                            76\n",
            "England                          75\n",
            "Jamaica                          73\n",
            "Dominican-Republic               69\n",
            "Poland                           64\n",
            "Guatemala                        63\n",
            "Vietnam                          61\n",
            "Japan                            57\n",
            "Columbia                         55\n",
            "Haiti                            54\n",
            "Portugal                         47\n",
            "Iran                             44\n",
            "Taiwan                           42\n",
            "Greece                           39\n",
            "Nicaragua                        39\n",
            "Peru                             34\n",
            "France                           32\n",
            "Ecuador                          31\n",
            "Ireland                          25\n",
            "Cambodia                         25\n",
            "Thailand                         24\n",
            "Hong                             21\n",
            "Laos                             18\n",
            "Trinadad&Tobago                  17\n",
            "Outlying-US(Guam-USVI-etc)       16\n",
            "Scotland                         15\n",
            "Yugoslavia                       15\n",
            "Hungary                          14\n",
            "Honduras                         13\n",
            "Holand-Netherlands                1\n",
            "Name: count, dtype: int64\n"
          ]
        }
      ]
    },
    {
      "cell_type": "code",
      "source": [
        "# Célula 4: Agrupar categorias raras (<1% do total) como 'Others'\n",
        "for col in colunas_categoricas:\n",
        "    freq = X[col].value_counts(normalize=True)\n",
        "    raras = freq[freq < 0.01].index\n",
        "    X[col] = X[col].apply(lambda x: 'Others' if x in raras else x)\n",
        "\n",
        "mostrar_categorias(X, colunas_categoricas)"
      ],
      "metadata": {
        "colab": {
          "base_uri": "https://localhost:8080/"
        },
        "id": "UvFlf_rwGSTC",
        "outputId": "00e12efc-68d9-4eb5-e85b-00fee7620183"
      },
      "execution_count": 4,
      "outputs": [
        {
          "output_type": "stream",
          "name": "stdout",
          "text": [
            "\n",
            "Coluna: workclass\n",
            "Número de categorias únicas: 8\n",
            "workclass\n",
            "Private             23719\n",
            "Self-emp-not-inc     2687\n",
            "Local-gov            2194\n",
            "Unknown              1969\n",
            "State-gov            1389\n",
            "Self-emp-inc         1197\n",
            "Federal-gov          1009\n",
            "Others                 25\n",
            "Name: count, dtype: int64\n",
            "\n",
            "Coluna: education\n",
            "Número de categorias únicas: 15\n",
            "education\n",
            "HS-grad         11018\n",
            "Some-college     7662\n",
            "Bachelors        5622\n",
            "Masters          1875\n",
            "Assoc-voc        1441\n",
            "11th             1271\n",
            "Assoc-acdm       1104\n",
            "10th              962\n",
            "7th-8th           663\n",
            "Prof-school       580\n",
            "9th               509\n",
            "12th              461\n",
            "Doctorate         417\n",
            "5th-6th           365\n",
            "Others            239\n",
            "Name: count, dtype: int64\n",
            "\n",
            "Coluna: marital-status\n",
            "Número de categorias únicas: 7\n",
            "marital-status\n",
            "Married-civ-spouse       15802\n",
            "Never-married            11156\n",
            "Divorced                  4625\n",
            "Widowed                   1071\n",
            "Separated                 1065\n",
            "Married-spouse-absent      445\n",
            "Others                      25\n",
            "Name: count, dtype: int64\n",
            "\n",
            "Coluna: occupation\n",
            "Número de categorias únicas: 14\n",
            "occupation\n",
            "Prof-specialty       4333\n",
            "Craft-repair         4282\n",
            "Exec-managerial      4256\n",
            "Adm-clerical         3918\n",
            "Sales                3880\n",
            "Other-service        3459\n",
            "Machine-op-inspct    2137\n",
            "Unknown              1977\n",
            "Transport-moving     1640\n",
            "Handlers-cleaners    1418\n",
            "Farming-fishing      1030\n",
            "Tech-support          954\n",
            "Protective-serv       714\n",
            "Others                191\n",
            "Name: count, dtype: int64\n",
            "\n",
            "Coluna: relationship\n",
            "Número de categorias únicas: 6\n",
            "relationship\n",
            "Husband           13931\n",
            "Not-in-family      8752\n",
            "Own-child          5258\n",
            "Unmarried          3563\n",
            "Wife               1629\n",
            "Other-relative     1056\n",
            "Name: count, dtype: int64\n",
            "\n",
            "Coluna: race\n",
            "Número de categorias únicas: 4\n",
            "race\n",
            "White                 29295\n",
            "Black                  3206\n",
            "Asian-Pac-Islander     1087\n",
            "Others                  601\n",
            "Name: count, dtype: int64\n",
            "\n",
            "Coluna: gender\n",
            "Número de categorias únicas: 2\n",
            "gender\n",
            "Male      22848\n",
            "Female    11341\n",
            "Name: count, dtype: int64\n",
            "\n",
            "Coluna: native-country\n",
            "Número de categorias únicas: 4\n",
            "native-country\n",
            "United-States    30682\n",
            "Others            2252\n",
            "Mexico             670\n",
            "Unknown            585\n",
            "Name: count, dtype: int64\n"
          ]
        }
      ]
    },
    {
      "cell_type": "code",
      "source": [
        "# Célula 5: Estatísticas das colunas numéricas\n",
        "colunas_numericas = X.select_dtypes(include=['int64', 'float64']).columns\n",
        "print(X[colunas_numericas].describe())"
      ],
      "metadata": {
        "colab": {
          "base_uri": "https://localhost:8080/"
        },
        "id": "GfxTWX6TGSVZ",
        "outputId": "7d67816e-7a17-4604-f76d-fa0168e9fea7"
      },
      "execution_count": 5,
      "outputs": [
        {
          "output_type": "stream",
          "name": "stdout",
          "text": [
            "                age        fnlwgt  educational-num  capital-gain  \\\n",
            "count  34189.000000  3.418900e+04     34189.000000  34189.000000   \n",
            "mean      38.689988  1.895613e+05        10.080903   1082.911229   \n",
            "std       13.741874  1.055642e+05         2.572400   7505.749147   \n",
            "min       17.000000  1.228500e+04         1.000000      0.000000   \n",
            "25%       28.000000  1.176740e+05         9.000000      0.000000   \n",
            "50%       37.000000  1.779370e+05        10.000000      0.000000   \n",
            "75%       48.000000  2.377200e+05        12.000000      0.000000   \n",
            "max       90.000000  1.484705e+06        16.000000  99999.000000   \n",
            "\n",
            "       capital-loss  hours-per-week  \n",
            "count  34189.000000    34189.000000  \n",
            "mean      89.585832       40.436310  \n",
            "std      407.092898       12.445302  \n",
            "min        0.000000        1.000000  \n",
            "25%        0.000000       40.000000  \n",
            "50%        0.000000       40.000000  \n",
            "75%        0.000000       45.000000  \n",
            "max     4356.000000       99.000000  \n"
          ]
        }
      ]
    },
    {
      "cell_type": "code",
      "source": [
        "# Célula 6: Padronização numérica\n",
        "scaler = StandardScaler()\n",
        "X[colunas_numericas] = scaler.fit_transform(X[colunas_numericas])"
      ],
      "metadata": {
        "id": "5GkFVHM1GSXq"
      },
      "execution_count": 6,
      "outputs": []
    },
    {
      "cell_type": "code",
      "source": [
        "# Célula 7: Label Encoding\n",
        "label_encoders = {}\n",
        "for col in colunas_categoricas:\n",
        "    le = LabelEncoder()\n",
        "    X[col] = le.fit_transform(X[col])\n",
        "    label_encoders[col] = le"
      ],
      "metadata": {
        "id": "YwEeJX4mGSZx"
      },
      "execution_count": 7,
      "outputs": []
    },
    {
      "cell_type": "code",
      "source": [
        "# Célula 8: Aplicar SMOTE\n",
        "smote = SMOTE(random_state=42)\n",
        "X_res, y_res = smote.fit_resample(X, y)\n",
        "y_res = y_res.map({'<=50K':0, '>50K':1})\n",
        "print(\"Distribuição após SMOTE:\\n\", y_res.value_counts())"
      ],
      "metadata": {
        "colab": {
          "base_uri": "https://localhost:8080/"
        },
        "id": "Y1jlHaIeGU4C",
        "outputId": "f0cef18a-5a30-4a8f-edc2-d16d409c14bb"
      },
      "execution_count": 8,
      "outputs": [
        {
          "output_type": "stream",
          "name": "stdout",
          "text": [
            "Distribuição após SMOTE:\n",
            " income\n",
            "0    25922\n",
            "1    25922\n",
            "Name: count, dtype: int64\n"
          ]
        }
      ]
    },
    {
      "cell_type": "code",
      "source": [
        "# Célula 9: Função para GridSearch com JSON\n",
        "def grid_search_model(model_name, estimator, param_grid, X, y, json_file):\n",
        "    if os.path.exists(json_file):\n",
        "        print(f\"Carregando parâmetros salvos de {model_name}\")\n",
        "        with open(json_file, \"r\") as f:\n",
        "            best_params = json.load(f)\n",
        "        model = estimator.set_params(**best_params)\n",
        "    else:\n",
        "        print(f\"Rodando GridSearch para {model_name}...\")\n",
        "        cv = StratifiedKFold(n_splits=5, shuffle=True, random_state=42)\n",
        "        grid = GridSearchCV(estimator, param_grid, scoring='f1', cv=cv, n_jobs=-1, verbose=2)\n",
        "        grid.fit(X, y)\n",
        "        best_params = grid.best_params_\n",
        "        print(f\"Melhores hiperparâmetros {model_name}: {best_params}\")\n",
        "        with open(json_file, \"w\") as f:\n",
        "            json.dump(best_params, f)\n",
        "        model = grid.best_estimator_\n",
        "    return model"
      ],
      "metadata": {
        "id": "ViiBb8CPGU6B"
      },
      "execution_count": 9,
      "outputs": []
    },
    {
      "cell_type": "code",
      "source": [
        "# Célula 10: Definir grids\n",
        "xgb_param_grid = {\n",
        "    'n_estimators': [100, 200],\n",
        "    'max_depth': [3, 5],\n",
        "    'learning_rate': [0.1, 0.2],\n",
        "    'subsample': [0.8, 1.0],\n",
        "    'colsample_bytree': [0.8, 1.0],\n",
        "    'gamma': [0, 0.1]\n",
        "}\n",
        "lgb_param_grid = {\n",
        "    'num_leaves': [31, 50],\n",
        "    'max_depth': [5, 10],\n",
        "    'learning_rate': [0.05, 0.1],\n",
        "    'n_estimators': [100, 200],\n",
        "    'subsample': [0.8, 1.0],\n",
        "    'colsample_bytree': [0.8, 1.0]\n",
        "}"
      ],
      "metadata": {
        "id": "Z_SmN7wxGU8p"
      },
      "execution_count": 10,
      "outputs": []
    },
    {
      "cell_type": "code",
      "source": [
        "# Célula 11: Treinar modelos (XGBoost + LightGBM)\n",
        "xgb_model = XGBClassifier(eval_metric='logloss', use_label_encoder=False, random_state=42)\n",
        "best_xgb = grid_search_model(\"XGBoost\", xgb_model, xgb_param_grid, X_res, y_res, \"xgb_params.json\")\n",
        "\n",
        "lgb_model = lgb.LGBMClassifier(random_state=42)\n",
        "best_lgb = grid_search_model(\"LightGBM\", lgb_model, lgb_param_grid, X_res, y_res, \"lgb_params.json\")"
      ],
      "metadata": {
        "colab": {
          "base_uri": "https://localhost:8080/"
        },
        "id": "6V5jDl_uGU_B",
        "outputId": "4bb5ded2-7676-4ac7-a235-612864ddefcb"
      },
      "execution_count": 11,
      "outputs": [
        {
          "output_type": "stream",
          "name": "stdout",
          "text": [
            "Rodando GridSearch para XGBoost...\n",
            "Fitting 5 folds for each of 64 candidates, totalling 320 fits\n",
            "Melhores hiperparâmetros XGBoost: {'colsample_bytree': 1.0, 'gamma': 0.1, 'learning_rate': 0.2, 'max_depth': 5, 'n_estimators': 200, 'subsample': 0.8}\n",
            "Rodando GridSearch para LightGBM...\n",
            "Fitting 5 folds for each of 64 candidates, totalling 320 fits\n",
            "[LightGBM] [Info] Number of positive: 25922, number of negative: 25922\n",
            "[LightGBM] [Info] Auto-choosing col-wise multi-threading, the overhead of testing was 0.016468 seconds.\n",
            "You can set `force_col_wise=true` to remove the overhead.\n",
            "[LightGBM] [Info] Total Bins 1586\n",
            "[LightGBM] [Info] Number of data points in the train set: 51844, number of used features: 14\n",
            "[LightGBM] [Info] [binary:BoostFromScore]: pavg=0.500000 -> initscore=0.000000\n",
            "Melhores hiperparâmetros LightGBM: {'colsample_bytree': 0.8, 'learning_rate': 0.1, 'max_depth': 10, 'n_estimators': 200, 'num_leaves': 50, 'subsample': 0.8}\n"
          ]
        }
      ]
    },
    {
      "cell_type": "code",
      "source": [
        "# Célula 12: Pré-processar conjunto de validação\n",
        "df_val = pd.read_csv(\"validation.csv\", keep_default_na=False)\n",
        "X_val = df_val.drop(columns=['income'])\n",
        "y_val = df_val['income'].map({'<=50K':0, '>50K':1})\n",
        "\n",
        "# Categóricas\n",
        "X_val[colunas_categoricas] = X_val[colunas_categoricas].replace(\"?\", \"Unknown\")\n",
        "for col, le in label_encoders.items():\n",
        "    known = set(le.classes_)\n",
        "    X_val[col] = X_val[col].apply(lambda x: x if x in known else 'Others')\n",
        "    if 'Others' not in le.classes_:\n",
        "        le.classes_ = np.append(le.classes_, 'Others')\n",
        "    X_val[col] = le.transform(X_val[col])\n",
        "\n",
        "# Numéricas\n",
        "X_val[colunas_numericas] = scaler.transform(X_val[colunas_numericas])"
      ],
      "metadata": {
        "id": "q0jeYyx8GVBJ"
      },
      "execution_count": 12,
      "outputs": []
    },
    {
      "cell_type": "code",
      "source": [
        "# Célula 13: Threshold tuning para F1\n",
        "def threshold_tuning(model, X_val, y_val):\n",
        "    probs = model.predict_proba(X_val)[:,1]\n",
        "    prec, rec, thr = precision_recall_curve(y_val, probs)\n",
        "    f1s = 2 * (prec * rec) / (prec + rec + 1e-12)\n",
        "    best_idx = f1s.argmax()\n",
        "    best_thr = thr[best_idx] if best_idx < len(thr) else 0.5\n",
        "    print(f\"Melhor threshold: {best_thr}, F1: {f1s[best_idx]}\")\n",
        "    y_pred = (probs >= best_thr).astype(int)\n",
        "    print(classification_report(y_val, y_pred))\n",
        "    return y_pred, best_thr"
      ],
      "metadata": {
        "id": "5E_NyhuQGVDj"
      },
      "execution_count": 13,
      "outputs": []
    },
    {
      "cell_type": "code",
      "source": [
        "# Célula 14: Avaliar XGBoost e LightGBM\n",
        "print(\"=== XGBoost ===\")\n",
        "y_pred_xgb, thr_xgb = threshold_tuning(best_xgb, X_val, y_val)\n",
        "\n",
        "print(\"=== LightGBM ===\")\n",
        "y_pred_lgb, thr_lgb = threshold_tuning(best_lgb, X_val, y_val)"
      ],
      "metadata": {
        "colab": {
          "base_uri": "https://localhost:8080/"
        },
        "id": "fIVn8plCGaWi",
        "outputId": "595609a5-e309-4638-e0e2-65683498906c"
      },
      "execution_count": 14,
      "outputs": [
        {
          "output_type": "stream",
          "name": "stdout",
          "text": [
            "=== XGBoost ===\n",
            "Melhor threshold: 0.5222922563552856, F1: 0.7180504392174099\n",
            "              precision    recall  f1-score   support\n",
            "\n",
            "           0       0.92      0.90      0.91      5642\n",
            "           1       0.69      0.75      0.72      1684\n",
            "\n",
            "    accuracy                           0.86      7326\n",
            "   macro avg       0.81      0.82      0.81      7326\n",
            "weighted avg       0.87      0.86      0.87      7326\n",
            "\n",
            "=== LightGBM ===\n",
            "Melhor threshold: 0.5080775841165837, F1: 0.7218795888394413\n",
            "              precision    recall  f1-score   support\n",
            "\n",
            "           0       0.92      0.91      0.92      5642\n",
            "           1       0.71      0.73      0.72      1684\n",
            "\n",
            "    accuracy                           0.87      7326\n",
            "   macro avg       0.82      0.82      0.82      7326\n",
            "weighted avg       0.87      0.87      0.87      7326\n",
            "\n"
          ]
        }
      ]
    },
    {
      "cell_type": "code",
      "source": [
        "# Célula 15: Ensemble simples (soft voting)\n",
        "probs_xgb = best_xgb.predict_proba(X_val)[:,1]\n",
        "probs_lgb = best_lgb.predict_proba(X_val)[:,1]\n",
        "probs_ens = (probs_xgb + probs_lgb)/2\n",
        "y_pred_ens = (probs_ens >= 0.5).astype(int)\n",
        "print(\"=== Ensemble XGB + LGB ===\")\n",
        "print(classification_report(y_val, y_pred_ens))\n",
        "print(\"F1 Ensemble:\", f1_score(y_val, y_pred_ens))"
      ],
      "metadata": {
        "colab": {
          "base_uri": "https://localhost:8080/"
        },
        "id": "BeXmfa-jGaYi",
        "outputId": "88c1dfaf-030d-4640-caa6-f2d5cc8f8b20"
      },
      "execution_count": 15,
      "outputs": [
        {
          "output_type": "stream",
          "name": "stdout",
          "text": [
            "=== Ensemble XGB + LGB ===\n",
            "              precision    recall  f1-score   support\n",
            "\n",
            "           0       0.92      0.90      0.91      5642\n",
            "           1       0.69      0.75      0.72      1684\n",
            "\n",
            "    accuracy                           0.86      7326\n",
            "   macro avg       0.81      0.82      0.81      7326\n",
            "weighted avg       0.87      0.86      0.87      7326\n",
            "\n",
            "F1 Ensemble: 0.716927453769559\n"
          ]
        }
      ]
    },
    {
      "cell_type": "code",
      "source": [
        "# Célula 16: Gráfico comparativo de F1\n",
        "f1_scores = {\n",
        "    \"XGBoost\": f1_score(y_val, y_pred_xgb),\n",
        "    \"LightGBM\": f1_score(y_val, y_pred_lgb),\n",
        "    \"Ensemble\": f1_score(y_val, y_pred_ens)\n",
        "}\n",
        "\n",
        "plt.figure(figsize=(6,4))\n",
        "plt.bar(f1_scores.keys(), f1_scores.values(), color=['orange','green','blue'])\n",
        "plt.title(\"Comparação F1 Score (>50K)\")\n",
        "plt.ylabel(\"F1 Score\")\n",
        "plt.ylim(0,1)\n",
        "plt.show()"
      ],
      "metadata": {
        "colab": {
          "base_uri": "https://localhost:8080/",
          "height": 391
        },
        "id": "xiNgbjxTGaa5",
        "outputId": "4efeb54a-06bd-4e5f-8f9e-472615704741"
      },
      "execution_count": 16,
      "outputs": [
        {
          "output_type": "display_data",
          "data": {
            "text/plain": [
              "<Figure size 600x400 with 1 Axes>"
            ],
            "image/png": "[encoded data removed]"
          },
          "metadata": {}
        }
      ]
    },
    {
      "cell_type": "code",
      "source": [
        "# Célula 17: Salvar modelos treinados\n",
        "joblib.dump(best_xgb, \"best_xgb.joblib\")\n",
        "joblib.dump(best_lgb, \"best_lgb.joblib\")"
      ],
      "metadata": {
        "colab": {
          "base_uri": "https://localhost:8080/"
        },
        "id": "kd1Q8G98GadR",
        "outputId": "0b115d34-cae0-4d1e-b016-42edbe70cd54"
      },
      "execution_count": 17,
      "outputs": [
        {
          "output_type": "execute_result",
          "data": {
            "text/plain": [
              "['best_lgb.joblib']"
            ]
          },
          "metadata": {},
          "execution_count": 17
        }
      ]
    },
    {
      "cell_type": "code",
      "source": [
        "# Célula 18: SHAP (LightGBM exemplo)\n",
        "explainer = shap.Explainer(best_lgb)\n",
        "shap_values = explainer(X_val.sample(500, random_state=42))\n",
        "shap.plots.beeswarm(shap_values)"
      ],
      "metadata": {
        "colab": {
          "base_uri": "https://localhost:8080/",
          "height": 514
        },
        "id": "OQpAhquVGafS",
        "outputId": "8cae7670-3e01-4b20-88ea-eb21b6bdb10f"
      },
      "execution_count": 18,
      "outputs": [
        {
          "output_type": "display_data",
          "data": {
            "text/plain": [
              "<Figure size 800x550 with 2 Axes>"
            ],
            "image/png": "[encoded data removed]"
          },
          "metadata": {}
        }
      ]
    }
  ]
}